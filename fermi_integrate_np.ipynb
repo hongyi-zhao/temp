{
 "cells": [
  {
   "cell_type": "markdown",
   "metadata": {},
   "source": [
    "The original python script is located on the following website:\n",
    "https://notebook.rcc.uchicago.edu/files/acs.chemmater.9b05047/Data/bulk/dft/mu.py\n",
    "\n",
    "See the following gist/discussion for more info:\n",
    "https://gist.github.com/ev-br/0250e4eee461670cf489515ee427eb99\n",
    "numpy-discussion, Oct 2020\n",
    "https://mail.python.org/pipermail/numpy-discussion/2020-October/081044.html"
   ]
  },
  {
   "cell_type": "code",
   "execution_count": 17,
   "metadata": {},
   "outputs": [],
   "source": [
    "import numpy as np"
   ]
  },
  {
   "cell_type": "code",
   "execution_count": 18,
   "metadata": {},
   "outputs": [
    {
     "name": "stdout",
     "output_type": "stream",
     "text": [
      "553 µs ± 9.91 µs per loop (mean ± std. dev. of 7 runs, 1000 loops each)\n"
     ]
    }
   ],
   "source": [
    "%%timeit\n",
    "\n",
    "def fermi(E,mu,kT):\n",
    "    return 1./(np.exp((E-mu)/kT) + 1)\n",
    "\n",
    "#data = genfromtxt(\"./dos/BiVO4.dos-202018-sm003\")\n",
    "#energy=data[:,0] #in eV\n",
    "#DOS=data[:,1]    #states/unit cell/ eV\n",
    "\n",
    "## cutoff some portion of DOS\n",
    "#index = argmax(energy > -11.0)\n",
    "#energy=energy[index:]\n",
    "#DOS=DOS[index:]\n",
    "#print(energy,DOS)\n",
    "\n",
    "\n",
    "energy = np.array([1, 2, 3, 4, 5], dtype=float)\n",
    "DOS = np.array([0.1, 0.2, 0.3, 0.4, 0.5])\n",
    "index = 0\n",
    "\n",
    "\n",
    "##k=1.3806488E-23 #J/K\n",
    "#k=8.6173324e-5 #eV/K\n",
    "#T= 300 # K\n",
    "#volume = 314.65333308 # ang^3, BiVO4 tet, pbe \n",
    "#volume_cm = volume*1e-24\n",
    "#numelect = 136 # BiVO4, tet, pbe\n",
    "#kT=k*T #eV\n",
    "\n",
    "kT = 1\n",
    "numelect = 2\n",
    "volume_cm = 1\n",
    "\n",
    "\n",
    "# range of mus\n",
    "#mu_init=10.3 #eV\n",
    "#mu_step=0.0001 #eV\n",
    "#res=np.zeros(npts)\n",
    "#mu_all=np.zeros(npts)\n",
    "\n",
    "\n",
    "npts = 17\n",
    "mu_init = 0\n",
    "mu_step = 0.01\n",
    "mu_all = np.zeros(npts)  #np.arange(0, npts)*mu_step + mu_init\n",
    "res = np.zeros(npts)\n",
    "\n",
    "for i in np.arange(0, npts):\n",
    "    mu=mu_init+i*mu_step\n",
    "    mu_all[i]=mu\n",
    "    integrand=DOS*fermi(energy,mu,kT)\n",
    "    res[i]=(np.trapz(integrand,energy)-numelect)/volume_cm #in cm-3\n",
    "\n",
    "allres_baseline = np.column_stack((mu_all,res))\n",
    "\n",
    "allres_baseline"
   ]
  },
  {
   "cell_type": "markdown",
   "metadata": {},
   "source": [
    "# tweak"
   ]
  },
  {
   "cell_type": "code",
   "execution_count": 19,
   "metadata": {},
   "outputs": [
    {
     "name": "stdout",
     "output_type": "stream",
     "text": [
      "57.8 µs ± 1.53 µs per loop (mean ± std. dev. of 7 runs, 10000 loops each)\n"
     ]
    }
   ],
   "source": [
    "%%timeit\n",
    "\n",
    "def fermi(E,mu,kT):\n",
    "    return 1./(np.exp((E-mu)/kT) + 1)\n",
    "\n",
    "#data = genfromtxt(\"./dos/BiVO4.dos-202018-sm003\")\n",
    "#energy=data[:,0] #in eV\n",
    "#DOS=data[:,1]    #states/unit cell/ eV\n",
    "\n",
    "## cutoff some portion of DOS\n",
    "#index = argmax(energy > -11.0)\n",
    "#energy=energy[index:]\n",
    "#DOS=DOS[index:]\n",
    "#print(energy,DOS)\n",
    "\n",
    "\n",
    "energy = np.array([1, 2, 3, 4, 5], dtype=float)\n",
    "DOS = np.array([0.1, 0.2, 0.3, 0.4, 0.5])\n",
    "index = 0\n",
    "\n",
    "\n",
    "##k=1.3806488E-23 #J/K\n",
    "#k=8.6173324e-5 #eV/K\n",
    "#T= 300 # K\n",
    "#volume = 314.65333308 # ang^3, BiVO4 tet, pbe \n",
    "#volume_cm = volume*1e-24\n",
    "#numelect = 136 # BiVO4, tet, pbe\n",
    "#kT=k*T #eV\n",
    "\n",
    "kT = 1\n",
    "numelect = 2\n",
    "volume_cm = 1\n",
    "\n",
    "\n",
    "# range of mus\n",
    "#mu_init=10.3 #eV\n",
    "#mu_step=0.0001 #eV\n",
    "#res=np.zeros(npts)\n",
    "#mu_all=np.zeros(npts)\n",
    "\n",
    "\n",
    "npts = 17\n",
    "mu_init = 0\n",
    "mu_step = 0.01\n",
    "mu_all = np.arange(0, npts)*mu_step + mu_init\n",
    "res = np.zeros(npts)\n",
    "\n",
    "#for i in np.arange(0, npts):\n",
    "#    integrand=DOS*fermi(energy,mu_all[i],kT)\n",
    "#    res[i]=(np.trapz(integrand,energy)-numelect)/volume_cm #in cm-3\n",
    "#\n",
    "#allres = np.column_stack((mu_all,res))\n",
    "\n",
    "integrand = DOS * fermi(energy, mu_all[:, None], kT)\n",
    "res = (np.trapz(integrand, energy, axis=1)  - numelect)/ volume_cm\n",
    "allres = np.column_stack((mu_all,res))\n",
    "\n",
    "#print(allres - allres_baseline)"
   ]
  },
  {
   "cell_type": "code",
   "execution_count": 20,
   "metadata": {},
   "outputs": [
    {
     "ename": "NameError",
     "evalue": "name 'DOS' is not defined",
     "output_type": "error",
     "traceback": [
      "\u001b[0;31m---------------------------------------------------------------------------\u001b[0m",
      "\u001b[0;31mNameError\u001b[0m                                 Traceback (most recent call last)",
      "\u001b[0;32m<ipython-input-20-b200479b8bb3>\u001b[0m in \u001b[0;36m<module>\u001b[0;34m\u001b[0m\n\u001b[0;32m----> 1\u001b[0;31m \u001b[0mDOS\u001b[0m\u001b[0;34m\u001b[0m\u001b[0;34m\u001b[0m\u001b[0m\n\u001b[0m",
      "\u001b[0;31mNameError\u001b[0m: name 'DOS' is not defined"
     ]
    }
   ],
   "source": [
    "DOS"
   ]
  },
  {
   "cell_type": "code",
   "execution_count": 21,
   "metadata": {},
   "outputs": [
    {
     "ename": "NameError",
     "evalue": "name 'fermi' is not defined",
     "output_type": "error",
     "traceback": [
      "\u001b[0;31m---------------------------------------------------------------------------\u001b[0m",
      "\u001b[0;31mNameError\u001b[0m                                 Traceback (most recent call last)",
      "\u001b[0;32m<ipython-input-21-cb071d5a4277>\u001b[0m in \u001b[0;36m<module>\u001b[0;34m\u001b[0m\n\u001b[0;32m----> 1\u001b[0;31m \u001b[0mfermi\u001b[0m\u001b[0;34m(\u001b[0m\u001b[0menergy\u001b[0m\u001b[0;34m,\u001b[0m \u001b[0mmu_all\u001b[0m\u001b[0;34m[\u001b[0m\u001b[0;36m0\u001b[0m\u001b[0;34m]\u001b[0m\u001b[0;34m,\u001b[0m \u001b[0mkT\u001b[0m\u001b[0;34m)\u001b[0m \u001b[0;34m*\u001b[0m \u001b[0mDOS\u001b[0m\u001b[0;34m\u001b[0m\u001b[0;34m\u001b[0m\u001b[0m\n\u001b[0m",
      "\u001b[0;31mNameError\u001b[0m: name 'fermi' is not defined"
     ]
    }
   ],
   "source": [
    "fermi(energy, mu_all[0], kT) * DOS"
   ]
  },
  {
   "cell_type": "code",
   "execution_count": 22,
   "metadata": {},
   "outputs": [
    {
     "ename": "NameError",
     "evalue": "name 'fermi' is not defined",
     "output_type": "error",
     "traceback": [
      "\u001b[0;31m---------------------------------------------------------------------------\u001b[0m",
      "\u001b[0;31mNameError\u001b[0m                                 Traceback (most recent call last)",
      "\u001b[0;32m<ipython-input-22-5996470efa4f>\u001b[0m in \u001b[0;36m<module>\u001b[0;34m\u001b[0m\n\u001b[0;32m----> 1\u001b[0;31m \u001b[0mfermi\u001b[0m\u001b[0;34m(\u001b[0m\u001b[0menergy\u001b[0m\u001b[0;34m,\u001b[0m \u001b[0mmu_all\u001b[0m\u001b[0;34m[\u001b[0m\u001b[0;34m:\u001b[0m\u001b[0;34m,\u001b[0m \u001b[0;32mNone\u001b[0m\u001b[0;34m]\u001b[0m\u001b[0;34m,\u001b[0m \u001b[0mkT\u001b[0m\u001b[0;34m)\u001b[0m\u001b[0;34m\u001b[0m\u001b[0;34m\u001b[0m\u001b[0m\n\u001b[0m",
      "\u001b[0;31mNameError\u001b[0m: name 'fermi' is not defined"
     ]
    }
   ],
   "source": [
    "fermi(energy, mu_all[:, None], kT)"
   ]
  },
  {
   "cell_type": "code",
   "execution_count": 23,
   "metadata": {},
   "outputs": [
    {
     "ename": "NameError",
     "evalue": "name 'DOS' is not defined",
     "output_type": "error",
     "traceback": [
      "\u001b[0;31m---------------------------------------------------------------------------\u001b[0m",
      "\u001b[0;31mNameError\u001b[0m                                 Traceback (most recent call last)",
      "\u001b[0;32m<ipython-input-23-59ca02db81d6>\u001b[0m in \u001b[0;36m<module>\u001b[0;34m\u001b[0m\n\u001b[0;32m----> 1\u001b[0;31m \u001b[0mDOS\u001b[0m \u001b[0;34m*\u001b[0m \u001b[0mfermi\u001b[0m\u001b[0;34m(\u001b[0m\u001b[0menergy\u001b[0m\u001b[0;34m,\u001b[0m \u001b[0mmu_all\u001b[0m\u001b[0;34m[\u001b[0m\u001b[0;34m:\u001b[0m\u001b[0;34m,\u001b[0m \u001b[0;32mNone\u001b[0m\u001b[0;34m]\u001b[0m\u001b[0;34m,\u001b[0m \u001b[0mkT\u001b[0m\u001b[0;34m)\u001b[0m\u001b[0;34m\u001b[0m\u001b[0;34m\u001b[0m\u001b[0m\n\u001b[0m",
      "\u001b[0;31mNameError\u001b[0m: name 'DOS' is not defined"
     ]
    }
   ],
   "source": [
    "DOS * fermi(energy, mu_all[:, None], kT)"
   ]
  },
  {
   "cell_type": "code",
   "execution_count": 24,
   "metadata": {},
   "outputs": [
    {
     "ename": "NameError",
     "evalue": "name 'fermi' is not defined",
     "output_type": "error",
     "traceback": [
      "\u001b[0;31m---------------------------------------------------------------------------\u001b[0m",
      "\u001b[0;31mNameError\u001b[0m                                 Traceback (most recent call last)",
      "\u001b[0;32m<ipython-input-24-52359b3444ff>\u001b[0m in \u001b[0;36m<module>\u001b[0;34m\u001b[0m\n\u001b[0;32m----> 1\u001b[0;31m \u001b[0;34m[\u001b[0m\u001b[0mnp\u001b[0m\u001b[0;34m.\u001b[0m\u001b[0mtrapz\u001b[0m\u001b[0;34m(\u001b[0m\u001b[0mfermi\u001b[0m\u001b[0;34m(\u001b[0m\u001b[0menergy\u001b[0m\u001b[0;34m,\u001b[0m \u001b[0mmu_all\u001b[0m\u001b[0;34m[\u001b[0m\u001b[0m_\u001b[0m\u001b[0;34m]\u001b[0m\u001b[0;34m,\u001b[0m \u001b[0mkT\u001b[0m\u001b[0;34m)\u001b[0m \u001b[0;34m*\u001b[0m \u001b[0mDOS\u001b[0m\u001b[0;34m)\u001b[0m \u001b[0;32mfor\u001b[0m \u001b[0m_\u001b[0m \u001b[0;32min\u001b[0m \u001b[0mrange\u001b[0m\u001b[0;34m(\u001b[0m\u001b[0;36m7\u001b[0m\u001b[0;34m)\u001b[0m\u001b[0;34m]\u001b[0m\u001b[0;34m\u001b[0m\u001b[0;34m\u001b[0m\u001b[0m\n\u001b[0m",
      "\u001b[0;32m<ipython-input-24-52359b3444ff>\u001b[0m in \u001b[0;36m<listcomp>\u001b[0;34m(.0)\u001b[0m\n\u001b[0;32m----> 1\u001b[0;31m \u001b[0;34m[\u001b[0m\u001b[0mnp\u001b[0m\u001b[0;34m.\u001b[0m\u001b[0mtrapz\u001b[0m\u001b[0;34m(\u001b[0m\u001b[0mfermi\u001b[0m\u001b[0;34m(\u001b[0m\u001b[0menergy\u001b[0m\u001b[0;34m,\u001b[0m \u001b[0mmu_all\u001b[0m\u001b[0;34m[\u001b[0m\u001b[0m_\u001b[0m\u001b[0;34m]\u001b[0m\u001b[0;34m,\u001b[0m \u001b[0mkT\u001b[0m\u001b[0;34m)\u001b[0m \u001b[0;34m*\u001b[0m \u001b[0mDOS\u001b[0m\u001b[0;34m)\u001b[0m \u001b[0;32mfor\u001b[0m \u001b[0m_\u001b[0m \u001b[0;32min\u001b[0m \u001b[0mrange\u001b[0m\u001b[0;34m(\u001b[0m\u001b[0;36m7\u001b[0m\u001b[0;34m)\u001b[0m\u001b[0;34m]\u001b[0m\u001b[0;34m\u001b[0m\u001b[0;34m\u001b[0m\u001b[0m\n\u001b[0m",
      "\u001b[0;31mNameError\u001b[0m: name 'fermi' is not defined"
     ]
    }
   ],
   "source": [
    "[np.trapz(fermi(energy, mu_all[_], kT) * DOS) for _ in range(7)]"
   ]
  },
  {
   "cell_type": "code",
   "execution_count": null,
   "metadata": {},
   "outputs": [],
   "source": []
  }
 ],
 "metadata": {
  "kernelspec": {
   "display_name": "Python 3",
   "language": "python",
   "name": "python3"
  },
  "language_info": {
   "codemirror_mode": {
    "name": "ipython",
    "version": 3
   },
   "file_extension": ".py",
   "mimetype": "text/x-python",
   "name": "python",
   "nbconvert_exporter": "python",
   "pygments_lexer": "ipython3",
   "version": "3.8.3"
  }
 },
 "nbformat": 4,
 "nbformat_minor": 4
}
